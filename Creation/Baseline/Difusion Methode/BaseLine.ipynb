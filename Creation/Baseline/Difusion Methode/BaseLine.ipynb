{
 "cells": [
  {
   "cell_type": "code",
   "execution_count": 102,
   "metadata": {},
   "outputs": [
    {
     "data": {
      "text/plain": [
       "'\\nmethode les plus simple que nous exploreron, baser sur un impating par difusion,\\nelle sont ideal pour les petite zone et sont tres \\neconomique en temps de calcule. \\n\\n2 seron tester : celle dans openCV : https://docs.opencv.org/4.x/df/d3d/tutorial_py_inpainting.html\\nla premiere : \\n    u,cv.INPAINT_TELEA =An Image Inpainting Technique Based on the Fast Marching Method\"** par Alexandru Telea en 2004\\nla segonde :\\n     cv.INPAINT_NS . = Navier-Stokes, Fluid Dynamics, and Image and Video Inpainting\"** de Bertalmio, Marcelo, Andrea L. Bertozzi et Guillermo Sapiro en 2001.\\n\\n\\nnous testeron egalemenent l\\'implementation d\\'inpating native de sklearn, toujour baser sur la difusion mais\\nplus resante : basser sur l\\'equation de Biharmonic : https://scikit-image.org/docs/dev/auto_examples/filters/plot_inpaint.html\\n'"
      ]
     },
     "execution_count": 102,
     "metadata": {},
     "output_type": "execute_result"
    }
   ],
   "source": [
    "#1er parti : methode proposer par OpenCV\n",
    "'''\n",
    "methode les plus simple que nous exploreron, baser sur un impating par difusion,\n",
    "elle sont ideal pour les petite zone et sont tres \n",
    "economique en temps de calcule. \n",
    "\n",
    "2 seron tester : celle dans openCV : https://docs.opencv.org/4.x/df/d3d/tutorial_py_inpainting.html\n",
    "la premiere : \n",
    "    u,cv.INPAINT_TELEA =An Image Inpainting Technique Based on the Fast Marching Method\"** par Alexandru Telea en 2004\n",
    "la segonde :\n",
    "     cv.INPAINT_NS . = Navier-Stokes, Fluid Dynamics, and Image and Video Inpainting\"** de Bertalmio, Marcelo, Andrea L. Bertozzi et Guillermo Sapiro en 2001.\n",
    "\n",
    "\n",
    "nous testeron egalemenent l'implementation d'inpating native de sklearn, toujour baser sur la difusion mais\n",
    "plus resante : basser sur l'equation de Biharmonic : https://scikit-image.org/docs/dev/auto_examples/filters/plot_inpaint.html\n",
    "'''"
   ]
  },
  {
   "cell_type": "code",
   "execution_count": 103,
   "metadata": {},
   "outputs": [],
   "source": [
    "#importation\n",
    "import numpy as np\n",
    "import cv2 as cv\n",
    "import matplotlib.pyplot as plt\n",
    "from skimage.restoration import inpaint\n",
    "from PIL import Image\n",
    "from matplotlib import cm\n",
    "import random\n",
    "import os\n",
    "import skimage.io"
   ]
  },
  {
   "cell_type": "code",
   "execution_count": 104,
   "metadata": {},
   "outputs": [
    {
     "data": {
      "text/plain": [
       "'\\nliste chemin\\n\\n\\nCampagne :  \\ncheminOutput=\"D:/DataMaitrise/ResultaCampagne/\"\\ncheminDuDataSet=\\'D:/DataMaitrise/campagne/structureAcacher/\\'\\n\\neau:\\ncheminOutput=\"D:/DataMaitrise/ResultaEau/\"\\ncheminDuDataSet=\\'D:/DataMaitrise/eauEntrainement/bateau/\\'\\n\\nforet :\\ncheminOutput=\"D:/DataMaitrise/ResultaForet/\"\\ncheminDuDataSet=\\'D:/DataMaitrise/foretEntrainement/instalation a cacher/\\'\\n\\nroute:\\ncheminOutput=\"D:/DataMaitrise/ResultaRoute/\"\\ncheminDuDataSet=\\'D:/DataMaitrise/route/aCacher/\\'\\n\\nparking:\\ncheminOutput=\"D:/DataMaitrise/ResultaParking/\"\\ncheminDuDataSet=\\'D:/DataMaitrise/parking/Acacher/\\'\\n\\nresidencielle:\\ncheminOutput=\"D:/DataMaitrise/ResultaResidencielle/\"\\ncheminDuDataSet=\\'D:/DataMaitrise/residencielle/a cacher/\\'\\n\\n\\n\\n\\n'"
      ]
     },
     "execution_count": 104,
     "metadata": {},
     "output_type": "execute_result"
    }
   ],
   "source": [
    "\"\"\"\n",
    "liste chemin\n",
    "\n",
    "\n",
    "Campagne :  \n",
    "cheminOutput=\"D:/DataMaitrise/ResultaCampagne/\"\n",
    "cheminDuDataSet='D:/DataMaitrise/campagne/structureAcacher/'\n",
    "\n",
    "eau:\n",
    "cheminOutput=\"D:/DataMaitrise/ResultaEau/\"\n",
    "cheminDuDataSet='D:/DataMaitrise/eauEntrainement/bateau/'\n",
    "\n",
    "foret :\n",
    "cheminOutput=\"D:/DataMaitrise/ResultaForet/\"\n",
    "cheminDuDataSet='D:/DataMaitrise/foretEntrainement/instalation a cacher/'\n",
    "\n",
    "route:\n",
    "cheminOutput=\"D:/DataMaitrise/ResultaRoute/\"\n",
    "cheminDuDataSet='D:/DataMaitrise/route/aCacher/'\n",
    "\n",
    "parking:\n",
    "cheminOutput=\"D:/DataMaitrise/ResultaParking/\"\n",
    "cheminDuDataSet='D:/DataMaitrise/parking/Acacher/'\n",
    "\n",
    "residencielle:\n",
    "cheminOutput=\"D:/DataMaitrise/ResultaResidencielle/\"\n",
    "cheminDuDataSet='D:/DataMaitrise/residencielle/a cacher/'\n",
    "\n",
    "\n",
    "\n",
    "\n",
    "\"\"\""
   ]
  },
  {
   "cell_type": "code",
   "execution_count": 105,
   "metadata": {},
   "outputs": [],
   "source": [
    "#chemin de l'outpout\n",
    "cheminOutput=\"D:/DataMaitrise/ResultaForet/\"\n",
    "cheminDuDataSet='D:/DataMaitrise/foretEntrainement/instalation a cacher/'\n",
    "\n"
   ]
  },
  {
   "cell_type": "code",
   "execution_count": 106,
   "metadata": {},
   "outputs": [],
   "source": [
    "\n",
    "cheminDuDataSetMask=cheminDuDataSet+str('mask/')\n",
    "\n",
    "\n",
    "#on recupere les chemin des fichiers et du mask assosier\n",
    "\n",
    "arr = os.listdir(cheminDuDataSet)\n",
    "campagne=[]\n",
    "for i in arr:\n",
    "    if '.png'  in i:\n",
    "        campagne.append(i)\n",
    "\n",
    "arr = os.listdir(cheminDuDataSetMask)\n",
    "mask=[]\n",
    "for i in arr:\n",
    "    if '.png'  in i:\n",
    "        mask.append(i)\n",
    "        \n",
    "        \n",
    "#on merge les 2\n",
    "arr = np.stack((campagne,mask), axis=1)\n",
    "#on verifie qu'il y a pas d'erreur\n",
    "for i in arr:\n",
    "    if i[0]!= i[1].replace(\"_mask\",\"\"):\n",
    "        print(i)\n",
    "\n",
    "#on ajout le chemin total\n",
    "fichier=[]        \n",
    "for i in range(0,len(arr)):\n",
    "    a=arr[i]\n",
    "    fichier.append([str(cheminDuDataSet+a[0]),str(cheminDuDataSetMask+a[1])])\n"
   ]
  },
  {
   "cell_type": "code",
   "execution_count": 107,
   "metadata": {},
   "outputs": [],
   "source": [
    "#block Fixe petit :\n",
    "\n",
    "img = cv.imread(fichier[0][0])\n",
    "#taille du trou : \n",
    "mid=int(img.shape[0]/2)\n",
    "tailleTrou=int(img.shape[0]/11)\n",
    "u=0\n",
    "\n",
    "#on boucle dans les fichier de test\n",
    "for nom in fichier:\n",
    "    #on recuper juste le chemin de l'image (pas de le mask)\n",
    "    img=nom[0]\n",
    "    img = cv.imread(img)\n",
    "    #on cree le mask\n",
    "    mask = np.zeros(img.shape[:-1], dtype=bool)\n",
    "    mask[mid-tailleTrou:mid+tailleTrou, mid-tailleTrou:mid+tailleTrou] = 1\n",
    "    \n",
    "  \n",
    "    \n",
    "    mask=np.float32(mask)\n",
    "    \n",
    "    mask =  mask[:,:,np.newaxis]\n",
    "    #print(mask.shape)\n",
    "    mask = np.uint8(mask)\n",
    "    \n",
    "    #INPAINT_TELEA\n",
    "    dst = cv.inpaint(img,mask,3,cv.INPAINT_TELEA)\n",
    "    #plt.imshow(dst)\n",
    "    #plt.show()\n",
    "    #sauvegard\n",
    "    chemin=str(str(cheminOutput)+str(arr[u][0][:-4])+str(\"SmallHoleTELEA.png\"))\n",
    "    cv.imwrite(chemin, dst) \n",
    "   \n",
    "    \n",
    "\n",
    "    \n",
    "    #INPAINT_NS\n",
    "    dst = cv.inpaint(img,mask,3,cv.INPAINT_NS)\n",
    "    #plt.imshow(dst)\n",
    "    #plt.show()\n",
    "    #sauvegarde\n",
    "    chemin=str(str(cheminOutput)+str(arr[u][0][:-4])+str(\"SmallHoleNS.png\"))\n",
    "    cv.imwrite(chemin, dst) \n",
    "    \n",
    "    \n",
    "    \n",
    "    u=u+1"
   ]
  },
  {
   "cell_type": "code",
   "execution_count": 108,
   "metadata": {},
   "outputs": [],
   "source": [
    "#block Fixe grand :\n",
    "\n",
    "img = cv.imread(fichier[0][0])\n",
    "#taille du trou : \n",
    "mid=int(img.shape[0]/2)\n",
    "tailleTrou=int(img.shape[0]/4)\n",
    "\n",
    "u=0\n",
    "#on boucle dans les fichier de test\n",
    "for nom in fichier:\n",
    "    #on recuper juste le chemin de l'image (pas de le mask)\n",
    "    img=nom[0]\n",
    "    img = cv.imread(img)\n",
    "    #on cree le mask\n",
    "    mask = np.zeros(img.shape[:-1], dtype=bool)\n",
    "    mask[mid-tailleTrou:mid+tailleTrou, mid-tailleTrou:mid+tailleTrou] = 1\n",
    "\n",
    "    \n",
    "    \n",
    "    \n",
    "    mask=np.float32(mask)\n",
    "    \n",
    "    mask =  mask[:,:,np.newaxis]\n",
    "    #print(mask.shape)\n",
    "    mask = np.uint8(mask)\n",
    "    \n",
    "    \n",
    "    #INPAINT_TELEA\n",
    "    dst = cv.inpaint(img,mask,3,cv.INPAINT_TELEA)\n",
    "    #plt.imshow(dst)\n",
    "    #plt.show()\n",
    "    #sauvegard\n",
    "    chemin=str(str(cheminOutput)+str(arr[u][0][:-4])+str(\"BigHoleTELEA.png\"))\n",
    "    cv.imwrite(chemin, dst) \n",
    "  \n",
    "\n",
    "    #INPAINT_NS\n",
    "    dst = cv.inpaint(img,mask,3,cv.INPAINT_NS)\n",
    "    #plt.imshow(dst)\n",
    "    #plt.show()\n",
    "    #sauvegarde\n",
    "    chemin=str(str(cheminOutput)+str(arr[u][0][:-4])+str(\"BigHoleNS.png\"))\n",
    "    cv.imwrite(chemin, dst) \n",
    "    u=u+1"
   ]
  },
  {
   "cell_type": "code",
   "execution_count": 109,
   "metadata": {},
   "outputs": [],
   "source": [
    "#block aleatoir Moyen:\n",
    "u=0\n",
    "#on boucle dans les fichier de test\n",
    "for nom in fichier:\n",
    "    #on recuper juste le chemin de l'image (pas de le mask)\n",
    "    img=nom[0]\n",
    "    img = cv.imread(img)\n",
    "    #on cree le mask aleatoir\n",
    "    mask = np.zeros(img.shape[:-1], dtype=bool)\n",
    "    x=random.randint(0, img.shape[0])\n",
    "    y=random.randint(0, img.shape[0])\n",
    "    tailleX=random.randint(1, int(img.shape[0]/3))\n",
    "    tailleY=random.randint(1, int(img.shape[0]/3))\n",
    "    mask[x:x+tailleX, y:y+tailleY] = 1\n",
    "\n",
    "    \n",
    "        \n",
    "    mask=np.float32(mask)\n",
    "    \n",
    "    mask =  mask[:,:,np.newaxis]\n",
    "    #print(mask.shape)\n",
    "    mask = np.uint8(mask)\n",
    "    \n",
    "    \n",
    "    \n",
    "    #INPAINT_TELEA\n",
    "    dst = cv.inpaint(img,mask,3,cv.INPAINT_TELEA)\n",
    "    #plt.imshow(dst)\n",
    "    #plt.show()\n",
    "    #sauvegard\n",
    "    chemin=str(str(cheminOutput)+str(arr[u][0][:-4])+str(\"RandomHoleTELEA.png\"))\n",
    "    cv.imwrite(chemin, dst) \n",
    "  \n",
    "\n",
    "    #INPAINT_NS\n",
    "    dst = cv.inpaint(img,mask,3,cv.INPAINT_NS)\n",
    "    #plt.imshow(dst)\n",
    "    #plt.show()\n",
    "    #sauvegarde\n",
    "    chemin=str(str(cheminOutput)+str(arr[u][0][:-4])+str(\"RandomHoleNS.png\"))\n",
    "    cv.imwrite(chemin, dst) \n",
    "    u=u+1"
   ]
  },
  {
   "cell_type": "code",
   "execution_count": 110,
   "metadata": {},
   "outputs": [],
   "source": [
    "#mask manuelle\n",
    "u=0\n",
    "#on boucle dans les fichier de test\n",
    "for nom in fichier:\n",
    "    #on recuper juste le chemin de l'image et celui du mask\n",
    "    img=nom[0]\n",
    "    img = cv.imread(img)\n",
    "    #on vas chercher le mask\n",
    "    maskNom = nom[1]\n",
    "    mask = cv.imread(maskNom,0)\n",
    "\n",
    "    #INPAINT_TELEA\n",
    "    dst = cv.inpaint(img,mask,3,cv.INPAINT_TELEA)\n",
    "    #plt.imshow(dst)\n",
    "    #plt.show()\n",
    "    #sauvegard\n",
    "    chemin=str(str(cheminOutput)+str(arr[u][0][:-4])+str(\"ManuelleHoleTELEA.png\"))\n",
    "    cv.imwrite(chemin, dst) \n",
    "  \n",
    "\n",
    "    #INPAINT_NS\n",
    "    dst = cv.inpaint(img,mask,3,cv.INPAINT_NS)\n",
    "    #plt.imshow(dst)\n",
    "    #plt.show()\n",
    "    #sauvegarde\n",
    "    chemin=str(str(cheminOutput)+str(arr[u][0][:-4])+str(\"ManuelleHoleNS.png\"))\n",
    "    cv.imwrite(chemin, dst) \n",
    "    u=u+1"
   ]
  },
  {
   "cell_type": "code",
   "execution_count": 111,
   "metadata": {},
   "outputs": [
    {
     "data": {
      "text/plain": [
       "\"\\napres les teste y savere que l'algorithm de sklearn est moyen\\net couteux en temps de calcule, ainssi seulement 2image seron\\ntester par type\\n\""
      ]
     },
     "execution_count": 111,
     "metadata": {},
     "output_type": "execute_result"
    }
   ],
   "source": [
    "\"\"\"\n",
    "apres les teste y savere que l'algorithm de sklearn est moyen\n",
    "et couteux en temps de calcule, ainssi seulement 2image seron\n",
    "tester par type\n",
    "\"\"\""
   ]
  },
  {
   "cell_type": "code",
   "execution_count": 112,
   "metadata": {},
   "outputs": [],
   "source": [
    "fichier=fichier[:2]"
   ]
  },
  {
   "cell_type": "code",
   "execution_count": 113,
   "metadata": {},
   "outputs": [],
   "source": [
    "#block Fixe petit :\n",
    "\n",
    "img = cv.imread(fichier[0][0])\n",
    "#taille du trou : \n",
    "mid=int(img.shape[0]/2)\n",
    "tailleTrou=int(img.shape[0]/11)\n",
    "u=0\n",
    "\n",
    "#on boucle dans les fichier de test\n",
    "for nom in fichier:\n",
    "    #on recuper juste le chemin de l'image (pas de le mask)\n",
    "    img=nom[0]\n",
    "    img = skimage.io.imread(img)\n",
    "    #on cree le mask\n",
    "    mask = np.zeros(img.shape[:-1], dtype=bool)\n",
    "    mask[mid-tailleTrou:mid+tailleTrou, mid-tailleTrou:mid+tailleTrou] = 1\n",
    "    \n",
    "    #Sklearn inpating\n",
    "    image_defect = img * ~mask[..., np.newaxis]\n",
    "    #mask 3chanelle\n",
    "    #i = Image.fromarray(mask)\n",
    "    #i=i.convert(\"RGB\")\n",
    "    #maskA=np.asarray(i)\n",
    "    #mask = cv.cvtColor(mask,cv.COLOR_GRAY2RGB)\n",
    "    \n",
    "       \n",
    "\n",
    "    \n",
    "    \n",
    "    \n",
    "    #inpating\n",
    "    dst=inpaint.inpaint_biharmonic(image_defect, mask, channel_axis=-1)\n",
    "    #sauvegarde\n",
    "    chemin=str(str(cheminOutput)+str(arr[u][0][:-4])+str(\"SmallHoleSKlearn.png\"))\n",
    "    #cv.imwrite(chemin, dst) \n",
    " \n",
    "    plt.imsave(chemin, dst)\n",
    "\n",
    "\n",
    "    #print('i')\n",
    "    \n",
    "    \n",
    "   \n",
    "    \n",
    "    \n",
    "    \n",
    "    u=u+1"
   ]
  },
  {
   "cell_type": "code",
   "execution_count": 114,
   "metadata": {},
   "outputs": [],
   "source": [
    "# a partire de la trop long pour pas un resulta sufisant : pas d'interet de tester \n",
    "# et comparetr avec peut de donné donc autent rien faire"
   ]
  },
  {
   "cell_type": "code",
   "execution_count": 115,
   "metadata": {},
   "outputs": [
    {
     "data": {
      "text/plain": [
       "'#block Fixe grand :\\n\\nimg = cv.imread(fichier[0][0])\\n#taille du trou : \\nmid=int(img.shape[0]/2)\\ntailleTrou=int(img.shape[0]/4)\\n\\nu=0\\n#on boucle dans les fichier de test\\nfor nom in fichier:\\n   #on recuper juste le chemin de l\\'image (pas de le mask)\\n   img=nom[0]\\n   img = skimage.io.imread(img)\\n   #on cree le mask\\n   mask = np.zeros(img.shape[:-1], dtype=bool)\\n   mask[mid-tailleTrou:mid+tailleTrou, mid-tailleTrou:mid+tailleTrou] = 1\\n\\n  \\n   #Sklearn inpating\\n   image_defect = img * ~mask[..., np.newaxis]\\n   #mask 3chanelle\\n   #i = Image.fromarray(mask)\\n  # i=i.convert(\"RGB\")\\n  # maskA=np.asarray(i)\\n   #mask = cv.cvtColor(mask,cv.COLOR_GRAY2RGB)\\n   \\n      \\n\\n   #inpating\\n   dst=inpaint.inpaint_biharmonic(image_defect, mask, channel_axis=-1)\\n   #sauvegarde\\n   chemin=str(str(cheminOutput)+str(arr[u][0][:-4])+str(\"NigHoleSKlearn.png\"))\\n   #cv.imwrite(chemin, dst) \\n   plt.imsave(chemin, dst)\\n\\n  \\n   \\n   \\n   \\n   \\n   \\n   u=u+1 '"
      ]
     },
     "execution_count": 115,
     "metadata": {},
     "output_type": "execute_result"
    }
   ],
   "source": [
    " '''#block Fixe grand :\n",
    "\n",
    "img = cv.imread(fichier[0][0])\n",
    "#taille du trou : \n",
    "mid=int(img.shape[0]/2)\n",
    "tailleTrou=int(img.shape[0]/4)\n",
    "\n",
    "u=0\n",
    "#on boucle dans les fichier de test\n",
    "for nom in fichier:\n",
    "    #on recuper juste le chemin de l'image (pas de le mask)\n",
    "    img=nom[0]\n",
    "    img = skimage.io.imread(img)\n",
    "    #on cree le mask\n",
    "    mask = np.zeros(img.shape[:-1], dtype=bool)\n",
    "    mask[mid-tailleTrou:mid+tailleTrou, mid-tailleTrou:mid+tailleTrou] = 1\n",
    "\n",
    "   \n",
    "    #Sklearn inpating\n",
    "    image_defect = img * ~mask[..., np.newaxis]\n",
    "    #mask 3chanelle\n",
    "    #i = Image.fromarray(mask)\n",
    "   # i=i.convert(\"RGB\")\n",
    "   # maskA=np.asarray(i)\n",
    "    #mask = cv.cvtColor(mask,cv.COLOR_GRAY2RGB)\n",
    "    \n",
    "       \n",
    "\n",
    "    #inpating\n",
    "    dst=inpaint.inpaint_biharmonic(image_defect, mask, channel_axis=-1)\n",
    "    #sauvegarde\n",
    "    chemin=str(str(cheminOutput)+str(arr[u][0][:-4])+str(\"NigHoleSKlearn.png\"))\n",
    "    #cv.imwrite(chemin, dst) \n",
    "    plt.imsave(chemin, dst)\n",
    "\n",
    "   \n",
    "    \n",
    "    \n",
    "    \n",
    "    \n",
    "    \n",
    "    u=u+1 '''"
   ]
  },
  {
   "cell_type": "code",
   "execution_count": 116,
   "metadata": {},
   "outputs": [
    {
     "data": {
      "text/plain": [
       "'#block aleatoir Moyen:\\nu=0\\n#on boucle dans les fichier de test\\nfor nom in fichier:\\n   #on recuper juste le chemin de l\\'image (pas de le mask)\\n   img=nom[0]\\n   img = skimage.io.imread(img)\\n   #on cree le mask aleatoir\\n   mask = np.zeros(img.shape[:-1], dtype=bool)\\n   x=random.randint(0, 128)\\n   y=random.randint(0, 128)\\n   tailleX=random.randint(1, 60)\\n   tailleY=random.randint(1, 60)\\n   mask[x:x+tailleX, y:y+tailleY] = 1\\n\\n \\n   #Sklearn inpating\\n   image_defect = img * ~mask[..., np.newaxis]\\n   #mask 3chanelle\\n   #i = Image.fromarray(mask)\\n   #i=i.convert(\"RGB\")\\n   #maskA=np.asarray(i)\\n   #mask = cv.cvtColor(mask,cv.COLOR_GRAY2RGB)\\n   \\n      \\n\\n\\n   \\n   \\n   \\n   \\n   #inpating\\n   dst=inpaint.inpaint_biharmonic(image_defect, mask, channel_axis=-1)\\n   #sauvegarde\\n   chemin=str(str(cheminOutput)+str(arr[u][0][:-4])+str(\"RandomHoleSKlearn.png\"))\\n   #cv.imwrite(chemin, dst) \\n   \\n\\n   plt.imsave(chemin, dst)\\n   \\n       \\n\\n   u=u+1\\n    '"
      ]
     },
     "execution_count": 116,
     "metadata": {},
     "output_type": "execute_result"
    }
   ],
   "source": [
    " '''#block aleatoir Moyen:\n",
    "u=0\n",
    "#on boucle dans les fichier de test\n",
    "for nom in fichier:\n",
    "    #on recuper juste le chemin de l'image (pas de le mask)\n",
    "    img=nom[0]\n",
    "    img = skimage.io.imread(img)\n",
    "    #on cree le mask aleatoir\n",
    "    mask = np.zeros(img.shape[:-1], dtype=bool)\n",
    "    x=random.randint(0, 128)\n",
    "    y=random.randint(0, 128)\n",
    "    tailleX=random.randint(1, 60)\n",
    "    tailleY=random.randint(1, 60)\n",
    "    mask[x:x+tailleX, y:y+tailleY] = 1\n",
    "\n",
    "  \n",
    "    #Sklearn inpating\n",
    "    image_defect = img * ~mask[..., np.newaxis]\n",
    "    #mask 3chanelle\n",
    "    #i = Image.fromarray(mask)\n",
    "    #i=i.convert(\"RGB\")\n",
    "    #maskA=np.asarray(i)\n",
    "    #mask = cv.cvtColor(mask,cv.COLOR_GRAY2RGB)\n",
    "    \n",
    "       \n",
    "\n",
    " \n",
    "    \n",
    "    \n",
    "    \n",
    "    \n",
    "    #inpating\n",
    "    dst=inpaint.inpaint_biharmonic(image_defect, mask, channel_axis=-1)\n",
    "    #sauvegarde\n",
    "    chemin=str(str(cheminOutput)+str(arr[u][0][:-4])+str(\"RandomHoleSKlearn.png\"))\n",
    "    #cv.imwrite(chemin, dst) \n",
    "    \n",
    "\n",
    "    plt.imsave(chemin, dst)\n",
    "    \n",
    "        \n",
    "\n",
    "    u=u+1\n",
    "     '''"
   ]
  },
  {
   "cell_type": "code",
   "execution_count": 117,
   "metadata": {},
   "outputs": [
    {
     "data": {
      "text/plain": [
       "'#mask manuelle\\nu=0\\n#on boucle dans les fichier de test\\nfor nom in fichier:\\n    #on recuper juste le chemin de l\\'image et celui du mask\\n    img=nom[0]\\n    img = skimage.io.imread(img)\\n    #on vas chercher le mask\\n    maskNom = nom[1]\\n\\n    #Sklearn inpating\\n    #mask 3chanelle\\n    mask = cv.imread(maskNom,3)\\n    #mask=skimage.io.imread(maskNom)\\n    \\n    #image_defect = img * mask# sa devrait marche\\n    \\n\\n    #dst=inpaint.inpaint_biharmonic(img, mask)\\n    #inpating\\n    dst=inpaint.inpaint_biharmonic(img, mask)\\n    #sauvegarde\\n    chemin=str(str(cheminOutput)+str(arr[u][0][:-4])+str(\"ManuelleHoleSKlearn.png\"))\\n    plt.imsave(chemin, dst)  \\n    print(\\'i\\')\\n    \\n    \\n    \\n    u=u+1\\n    \\n    '"
      ]
     },
     "execution_count": 117,
     "metadata": {},
     "output_type": "execute_result"
    }
   ],
   "source": [
    "'''#mask manuelle\n",
    "u=0\n",
    "#on boucle dans les fichier de test\n",
    "for nom in fichier:\n",
    "    #on recuper juste le chemin de l'image et celui du mask\n",
    "    img=nom[0]\n",
    "    img = skimage.io.imread(img)\n",
    "    #on vas chercher le mask\n",
    "    maskNom = nom[1]\n",
    "\n",
    "    #Sklearn inpating\n",
    "    #mask 3chanelle\n",
    "    mask = cv.imread(maskNom,3)\n",
    "    #mask=skimage.io.imread(maskNom)\n",
    "    \n",
    "    #image_defect = img * mask# sa devrait marche\n",
    "    \n",
    "\n",
    "    #dst=inpaint.inpaint_biharmonic(img, mask)\n",
    "    #inpating\n",
    "    dst=inpaint.inpaint_biharmonic(img, mask)\n",
    "    #sauvegarde\n",
    "    chemin=str(str(cheminOutput)+str(arr[u][0][:-4])+str(\"ManuelleHoleSKlearn.png\"))\n",
    "    plt.imsave(chemin, dst)  \n",
    "    print('i')\n",
    "    \n",
    "    \n",
    "    \n",
    "    u=u+1\n",
    "    \n",
    "    '''"
   ]
  },
  {
   "cell_type": "code",
   "execution_count": null,
   "metadata": {},
   "outputs": [],
   "source": []
  },
  {
   "cell_type": "code",
   "execution_count": null,
   "metadata": {},
   "outputs": [],
   "source": []
  },
  {
   "cell_type": "code",
   "execution_count": null,
   "metadata": {},
   "outputs": [],
   "source": []
  },
  {
   "cell_type": "code",
   "execution_count": null,
   "metadata": {},
   "outputs": [],
   "source": []
  },
  {
   "cell_type": "code",
   "execution_count": null,
   "metadata": {},
   "outputs": [],
   "source": []
  },
  {
   "cell_type": "code",
   "execution_count": null,
   "metadata": {},
   "outputs": [],
   "source": []
  },
  {
   "cell_type": "code",
   "execution_count": null,
   "metadata": {},
   "outputs": [],
   "source": []
  },
  {
   "cell_type": "code",
   "execution_count": null,
   "metadata": {},
   "outputs": [],
   "source": []
  },
  {
   "cell_type": "code",
   "execution_count": null,
   "metadata": {},
   "outputs": [],
   "source": []
  },
  {
   "cell_type": "code",
   "execution_count": null,
   "metadata": {},
   "outputs": [],
   "source": []
  }
 ],
 "metadata": {
  "kernelspec": {
   "display_name": "Python 3 (ipykernel)",
   "language": "python",
   "name": "python3"
  },
  "language_info": {
   "codemirror_mode": {
    "name": "ipython",
    "version": 3
   },
   "file_extension": ".py",
   "mimetype": "text/x-python",
   "name": "python",
   "nbconvert_exporter": "python",
   "pygments_lexer": "ipython3",
   "version": "3.9.12"
  }
 },
 "nbformat": 4,
 "nbformat_minor": 4
}
